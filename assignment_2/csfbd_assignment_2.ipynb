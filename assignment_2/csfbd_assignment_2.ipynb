{
 "cells": [
  {
   "cell_type": "markdown",
   "metadata": {},
   "source": [
    "### Assignment: 2 "
   ]
  },
  {
   "cell_type": "markdown",
   "metadata": {},
   "source": [
    "<b> Coded By: </b> Ahmed Dider Rahat <br>\n",
    "<b> Matriculation Number: </b> 916146"
   ]
  },
  {
   "cell_type": "code",
   "execution_count": 1,
   "metadata": {},
   "outputs": [],
   "source": [
    "numbers = [ 1, 4, 6, 67, 6, 8, 23, 8, 34, 49, 67, 6, 8, 23, 37, 67, 6, 34, 19, 67, 6, 8 ]"
   ]
  },
  {
   "cell_type": "code",
   "execution_count": 2,
   "metadata": {},
   "outputs": [
    {
     "name": "stdout",
     "output_type": "stream",
     "text": [
      "First Four numbers are: [1, 4, 6, 67]\n"
     ]
    }
   ],
   "source": [
    "#question 1: a. Print the first four numbers (use slicing).\n",
    "\n",
    "print(\"First Four numbers are: \" + str(numbers[:4]))"
   ]
  },
  {
   "cell_type": "code",
   "execution_count": 3,
   "metadata": {},
   "outputs": [
    {
     "name": "stdout",
     "output_type": "stream",
     "text": [
      "Last Four numbers are: [19, 67, 6, 8]\n"
     ]
    }
   ],
   "source": [
    "#question 1: b. Print the last four numbers.\n",
    "\n",
    "print(\"Last Four numbers are: \" + str(numbers[-4:]))"
   ]
  },
  {
   "cell_type": "code",
   "execution_count": 4,
   "metadata": {},
   "outputs": [
    {
     "name": "stdout",
     "output_type": "stream",
     "text": [
      "sum_all(numbers) -> 554\n"
     ]
    }
   ],
   "source": [
    "#question 1: c. Write a Python function: sum_all( _numbers: [] ) ‐> int that computes the sum of all numbers.\n",
    "\n",
    "def sum_all(_numbers: []):\n",
    "    _sum = 0\n",
    "    \n",
    "    for number in _numbers:\n",
    "        _sum += number\n",
    "    \n",
    "    return _sum\n",
    "print(\"sum_all(numbers) -> \" + str( sum_all( numbers ) ) )"
   ]
  },
  {
   "cell_type": "code",
   "execution_count": 5,
   "metadata": {},
   "outputs": [
    {
     "name": "stdout",
     "output_type": "stream",
     "text": [
      "sum_odds(numbers) -> 420\n"
     ]
    }
   ],
   "source": [
    "#question 1: d. Write a Python function: sum_odds( … ) that computes the sum of all odd numbers. \n",
    "\n",
    "\n",
    "def sum_odds(_numbers: []):\n",
    "    _sum = 0\n",
    "    \n",
    "    for number in _numbers:\n",
    "        if number % 2 == 1:\n",
    "            _sum += number\n",
    "    \n",
    "    return _sum\n",
    "\n",
    "print(\"sum_odds(numbers) -> \" + str(sum_odds(numbers))) "
   ]
  },
  {
   "cell_type": "code",
   "execution_count": 6,
   "metadata": {},
   "outputs": [
    {
     "name": "stdout",
     "output_type": "stream",
     "text": [
      "sum_four(numbers) -> (78, 100)\n"
     ]
    }
   ],
   "source": [
    "\"\"\"question 1: e. Write a Python function: sum_four( … ) that computes the sum of the first four numbers and the \n",
    "sum of the last four numbers. Use Python’s tuple‐notation to return both values.\"\"\"\n",
    "\n",
    "def sum_four(_numbers: []):\n",
    "    \n",
    "    first_four = sum_all(_numbers[:4])\n",
    "    last_four = sum_all(_numbers[-4:])\n",
    "    \n",
    "    \n",
    "    return (first_four, last_four)\n",
    "\n",
    "print(\"sum_four(numbers) -> \" + str(sum_four(numbers)))"
   ]
  },
  {
   "cell_type": "code",
   "execution_count": 7,
   "metadata": {},
   "outputs": [
    {
     "name": "stdout",
     "output_type": "stream",
     "text": [
      "sum_lambda(numbers) -> 554\n"
     ]
    }
   ],
   "source": [
    "\"\"\"question 1: f. Write a lambda function:(sum_lambda = lambda…) that computes the sum of all numbers.\"\"\"\n",
    "\n",
    "def sum_of_last_two(_numbers: []):\n",
    "    first_num = _numbers[0]\n",
    "    second_num = _numbers[1]\n",
    "    \n",
    "    _numbers.pop(0)\n",
    "    \n",
    "    _numbers[0] = first_num + second_num\n",
    "    \n",
    "    return _numbers\n",
    "\n",
    "_numbers = numbers.copy()\n",
    "\n",
    "sum_lambda = lambda _numbers: sum_lambda(sum_of_last_two(_numbers)) if (len(_numbers) > 1) else _numbers[0]\n",
    "\n",
    "print(\"sum_lambda(numbers) -> \" + str(sum_lambda(_numbers))) "
   ]
  },
  {
   "cell_type": "code",
   "execution_count": 8,
   "metadata": {},
   "outputs": [
    {
     "name": "stdout",
     "output_type": "stream",
     "text": [
      "sum_lambda_odds(numbers) -> 420\n"
     ]
    }
   ],
   "source": [
    "\"\"\"question 1: g. Write a lambda function: sum_lambda_odds( … ) that computes the sum of all odd numbers.\"\"\"\n",
    "\n",
    "sum_lambda_odds = lambda _data: sum_lambda([i for i in _data if i%2==1])\n",
    "\n",
    "_numbers = numbers.copy()\n",
    "\n",
    "print(\"sum_lambda_odds(numbers) -> \" + str(sum_lambda_odds(_numbers)))"
   ]
  },
  {
   "cell_type": "markdown",
   "metadata": {},
   "source": [
    "<b>question 1: h. Given the list contains n numbers, how many steps are needed to compute the sum of all numbers?</b>\n",
    "\n",
    "<b>Answer:</b> If the number, n is even than it need n/2 step to compute the sum. \n",
    "The process is: add number[0] with number[n-1], number[1] with number[n-2], and so on.\n",
    "\n",
    "if the number, n is odd. Then need one extra itteration to add the middle element. \n",
    "\n",
    "So, the overall step is ceil(n/2). "
   ]
  },
  {
   "cell_type": "code",
   "execution_count": 9,
   "metadata": {},
   "outputs": [
    {
     "name": "stdout",
     "output_type": "stream",
     "text": [
      "find_first(6,numbers) -> 2\n",
      "find_last(6,numbers) -> 20\n"
     ]
    }
   ],
   "source": [
    "\"\"\"2.) Write a Python function: find_first(_n: int, _numbers: []) -> int: that finds the first index of a number n in numbers\n",
    "(or ‐1 if element is not found).\"\"\"\n",
    "\n",
    "def find_first(_n: int, _numbers: []):\n",
    "    index = 0\n",
    "    \n",
    "    for _num in _numbers:\n",
    "        if _num==_n:\n",
    "            return index\n",
    "        index += 1\n",
    "        \n",
    "    return -1\n",
    "\n",
    "\n",
    "\"\"\"Write a Python function: find_last(_n: int, _numbers: []) -> int:that finds the last index of an element in numbers\n",
    "(or ‐1). \"\"\"\n",
    "\n",
    "def find_last(_n: int, _numbers: []):\n",
    "    index = 0\n",
    "    \n",
    "    lastIndex=-1\n",
    "    \n",
    "    for _num in _numbers:\n",
    "        if _num==_n:\n",
    "            lastIndex = index\n",
    "\n",
    "        index += 1\n",
    "        \n",
    "    return lastIndex\n",
    "\n",
    "print(\"find_first(6,numbers) -> \" + str( find_first(6,numbers)))\n",
    "print(\"find_last(6,numbers) -> \" + str( find_last(6,numbers)))"
   ]
  },
  {
   "cell_type": "code",
   "execution_count": 10,
   "metadata": {},
   "outputs": [
    {
     "name": "stdout",
     "output_type": "stream",
     "text": [
      "find_firsttwo(6,8,numbers) -> 4\n"
     ]
    }
   ],
   "source": [
    "\"\"\"3.) Write a Python function: find_firsttwo(_n: int, _m: int, _numbers: []) -> int: that finds the first index of two given\n",
    "consecutive numbers in the list (or ‐1 if not found).\"\"\"\n",
    "\n",
    "def find_firsttwo(_n1: int, _n2: int, _numbers: []):\n",
    "    \n",
    "    intentInd = -1\n",
    "    \n",
    "    for index in range(0, len(_numbers)-1):\n",
    "        if _n1 == _numbers[index] and _n2 == _numbers[index+1]:\n",
    "            intentInd = index\n",
    "            break;\n",
    "    \n",
    "    return intentInd\n",
    "\n",
    "print(\"find_firsttwo(6,8,numbers) -> \" + str(find_firsttwo(6,8,numbers)))"
   ]
  },
  {
   "cell_type": "code",
   "execution_count": 11,
   "metadata": {},
   "outputs": [
    {
     "name": "stdout",
     "output_type": "stream",
     "text": [
      "find_alltwo(67,6,numbers) -> [3, 10, 15, 19]\n"
     ]
    }
   ],
   "source": [
    "\"\"\"4.) Write a Python function: find_alltwo(_n: int, _m: int, _numbers: []) -> []:that finds all indices of the two given \n",
    "consecutive numbers appearing in the list (or empty set).\"\"\"\n",
    "\n",
    "def find_alltwo(_n1: int, _n2: int, _numbers: []):\n",
    "    \n",
    "    consicutive_list = []\n",
    "    \n",
    "    for index in range(0, len(_numbers)-1):\n",
    "        if _n1 == _numbers[index] and _n2 == _numbers[index+1]:\n",
    "            consicutive_list.append(index)\n",
    "            \n",
    "    return consicutive_list\n",
    "\n",
    "print(\"find_alltwo(67,6,numbers) -> \" + str( find_alltwo(67,6,numbers) ) )"
   ]
  },
  {
   "cell_type": "code",
   "execution_count": 12,
   "metadata": {},
   "outputs": [
    {
     "name": "stdout",
     "output_type": "stream",
     "text": [
      "find_sub([67,6,8],numbers) -> 3\n"
     ]
    }
   ],
   "source": [
    "\"\"\"5.) Write a Python function: find_sub(_sub: [], _numbers: []) -> int:that finds the index of the first appearance of\n",
    "the sublist in the list (or ‐1).\"\"\"\n",
    "\n",
    "def find_sub(_sub: [], _numbers: []):\n",
    "    \n",
    "    intentIndex = -1\n",
    "    \n",
    "    for index in range(0, len(_numbers)-1):\n",
    "        if _numbers[index] == _sub[0]:\n",
    "            _subList = _numbers[index:(index+len(_sub))]\n",
    "            \n",
    "            if _subList == _sub:\n",
    "                return index\n",
    "            \n",
    "    return intentIndex\n",
    "\n",
    "print(\"find_sub([67,6,8],numbers) -> \" + str( find_sub([67,6,8],numbers)))"
   ]
  },
  {
   "cell_type": "code",
   "execution_count": 13,
   "metadata": {},
   "outputs": [
    {
     "name": "stdout",
     "output_type": "stream",
     "text": [
      "find_allsubs([67,6,8],numbers) -> [3, 10, 19]\n"
     ]
    }
   ],
   "source": [
    "\"\"\"6.) Write a Python function: find_allsubs(_sub: [], _numbers: []) -> []: that finds all occurrences of a given \n",
    "sublist in numbers (or empty set).\"\"\"\n",
    "\n",
    "def find_allsubs(_sub: [], _numbers: []):\n",
    "    \n",
    "    intentIndexList = []\n",
    "    \n",
    "    for index in range(0, len(_numbers)-1):\n",
    "        if _numbers[index] == _sub[0]:\n",
    "            _subList = _numbers[index:(index+len(_sub))]\n",
    "            \n",
    "            if _subList == _sub:\n",
    "                intentIndexList.append(index)\n",
    "            \n",
    "    return intentIndexList\n",
    "\n",
    "print(\"find_allsubs([67,6,8],numbers) -> \" + str( find_allsubs([67,6,8],numbers) ) )"
   ]
  },
  {
   "cell_type": "markdown",
   "metadata": {},
   "source": [
    "<b>7.) If numbers has n elements and the sublist has m elements, how many steps are needed to finds all occurrences of a sublist in the list?</b>\n",
    "\n",
    "<b>Answer:</b> It needs (n - m - 1) * m steps to compute it. "
   ]
  }
 ],
 "metadata": {
  "kernelspec": {
   "display_name": "Python 3",
   "language": "python",
   "name": "python3"
  },
  "language_info": {
   "codemirror_mode": {
    "name": "ipython",
    "version": 3
   },
   "file_extension": ".py",
   "mimetype": "text/x-python",
   "name": "python",
   "nbconvert_exporter": "python",
   "pygments_lexer": "ipython3",
   "version": "3.6.5"
  }
 },
 "nbformat": 4,
 "nbformat_minor": 2
}
